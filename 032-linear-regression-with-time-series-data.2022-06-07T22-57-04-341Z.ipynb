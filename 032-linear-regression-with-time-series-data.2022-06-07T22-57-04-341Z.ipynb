{
 "cells": [
  {
   "cell_type": "markdown",
   "id": "99510545-58fb-433f-872d-1b3edfc32f8e",
   "metadata": {
    "deletable": false,
    "editable": false
   },
   "source": [
    "<font size=\"+3\"><strong>Linear Regression with Time Series Data</strong></font>"
   ]
  },
  {
   "cell_type": "code",
   "execution_count": 1,
   "id": "fbf57de0-87e5-440e-8591-8af7a89a08ad",
   "metadata": {
    "deletable": false,
    "editable": false,
    "init_cell": true
   },
   "outputs": [],
   "source": [
    "import matplotlib.pyplot as plt\n",
    "import pandas as pd\n",
    "import plotly.express as px\n",
    "import pytz\n",
    "from IPython.display import VimeoVideo\n",
    "from pymongo import MongoClient\n",
    "from sklearn.linear_model import LinearRegression\n",
    "from sklearn.metrics import mean_absolute_error"
   ]
  },
  {
   "cell_type": "code",
   "execution_count": 2,
   "id": "25b5be6d-86bb-457f-915e-2288f620f2a5",
   "metadata": {
    "deletable": false,
    "editable": false,
    "init_cell": true
   },
   "outputs": [
    {
     "data": {
      "text/html": [
       "\n",
       "        <iframe\n",
       "            width=\"600\"\n",
       "            height=\"300\"\n",
       "            src=\"https://player.vimeo.com/video/665412117?h=c39a50bd58\"\n",
       "            frameborder=\"0\"\n",
       "            allowfullscreen\n",
       "            \n",
       "        ></iframe>\n",
       "        "
      ],
      "text/plain": [
       "<IPython.lib.display.VimeoVideo at 0x7fda983d7df0>"
      ]
     },
     "execution_count": 2,
     "metadata": {},
     "output_type": "execute_result"
    }
   ],
   "source": [
    "VimeoVideo(\"665412117\", h=\"c39a50bd58\", width=600)"
   ]
  },
  {
   "cell_type": "markdown",
   "id": "1a07c911-8a4d-4032-96ab-ded4b68c0a9c",
   "metadata": {
    "deletable": false,
    "editable": false
   },
   "source": [
    "# Prepare Data"
   ]
  },
  {
   "cell_type": "markdown",
   "id": "b2f051e3-670a-49e2-91a4-ad16b47e9b33",
   "metadata": {
    "deletable": false,
    "editable": false
   },
   "source": [
    "## Import"
   ]
  },
  {
   "cell_type": "code",
   "execution_count": 3,
   "id": "4193c2cc-f234-4377-b9fa-d11fae8f3829",
   "metadata": {
    "deletable": false,
    "editable": false,
    "init_cell": true
   },
   "outputs": [
    {
     "data": {
      "text/html": [
       "\n",
       "        <iframe\n",
       "            width=\"600\"\n",
       "            height=\"300\"\n",
       "            src=\"https://player.vimeo.com/video/665412469?h=135f32c7da\"\n",
       "            frameborder=\"0\"\n",
       "            allowfullscreen\n",
       "            \n",
       "        ></iframe>\n",
       "        "
      ],
      "text/plain": [
       "<IPython.lib.display.VimeoVideo at 0x7fda983d7850>"
      ]
     },
     "execution_count": 3,
     "metadata": {},
     "output_type": "execute_result"
    }
   ],
   "source": [
    "VimeoVideo(\"665412469\", h=\"135f32c7da\", width=600)"
   ]
  },
  {
   "cell_type": "markdown",
   "id": "41fbefa8-de68-4f4d-8eef-8898c9e90326",
   "metadata": {
    "deletable": false,
    "editable": false
   },
   "source": [
    "**Task 3.2.1:** Complete to the create a client to connect to the MongoDB server, assign the `\"air-quality\"` database to `db`, and assign the `\"nairobi\"` connection to `nairobi`.\n",
    "\n",
    "- [<span id='technique'>Create a client object for a <span id='tool'>MongoDB</span> instance.](../%40textbook/11-databases-mongodb.ipynb#Servers-and-Clients) \n",
    "- [<span id='technique'>Access a database using <span id='tool'>PyMongo.](../%40textbook/11-databases-mongodb.ipynb#Servers-and-Clients)\n",
    "- [<span id='technique'>Access a collection in a database using <span id='tool'>PyMongo.](../%40textbook/11-databases-mongodb.ipynb#Collections)"
   ]
  },
  {
   "cell_type": "code",
   "execution_count": 4,
   "id": "3b1fb6ff-e457-4e73-8139-145d9ec4f88f",
   "metadata": {
    "deletable": false
   },
   "outputs": [],
   "source": [
    "client = MongoClient(host=\"localhost\", port=27017)\n",
    "db = client[\"air-quality\"]\n",
    "nairobi = db[\"nairobi\"]"
   ]
  },
  {
   "cell_type": "code",
   "execution_count": 5,
   "id": "ce9699de-e708-4620-8526-8e373126d845",
   "metadata": {
    "deletable": false,
    "editable": false,
    "init_cell": true
   },
   "outputs": [
    {
     "data": {
      "text/html": [
       "\n",
       "        <iframe\n",
       "            width=\"600\"\n",
       "            height=\"300\"\n",
       "            src=\"https://player.vimeo.com/video/665412480?h=c20ed3e570\"\n",
       "            frameborder=\"0\"\n",
       "            allowfullscreen\n",
       "            \n",
       "        ></iframe>\n",
       "        "
      ],
      "text/plain": [
       "<IPython.lib.display.VimeoVideo at 0x7fd9e5671760>"
      ]
     },
     "execution_count": 5,
     "metadata": {},
     "output_type": "execute_result"
    }
   ],
   "source": [
    "VimeoVideo(\"665412480\", h=\"c20ed3e570\", width=600)"
   ]
  },
  {
   "cell_type": "markdown",
   "id": "9ee6bc60-f8be-4585-bd55-b5e24d95c517",
   "metadata": {
    "deletable": false,
    "editable": false
   },
   "source": [
    "**Task 3.2.2:** Complete the `wrangle` function below so that the `results` from the database query are read into the DataFrame `df`. Be sure that the index of `df` is the `\"timestamp\"` from the results. \n",
    "\n",
    "- [<span id='technique'>Create a DataFrame from a dictionary using <span id='tool'>pandas.](../%40textbook/03-pandas-getting-started.ipynb#Working-with-DataFrames)"
   ]
  },
  {
   "cell_type": "code",
   "execution_count": 6,
   "id": "15ebc855-0132-4736-9637-23c5910ea248",
   "metadata": {
    "deletable": false
   },
   "outputs": [],
   "source": [
    "def wrangle(collection):\n",
    "    results = collection.find(\n",
    "        {\"metadata.site\": 29, \"metadata.measurement\": \"P2\"},\n",
    "        projection={\"P2\": 1, \"timestamp\": 1, \"_id\": 0},\n",
    "    )\n",
    "\n",
    "    df = pd.DataFrame(results).set_index(\"timestamp\")\n",
    "    \n",
    "    # localise timestamp\n",
    "    df.index = df.index.tz_localize(\"UTC\").tz_convert(\"Africa/Nairobi\")\n",
    "    \n",
    "    # Remove outliers\n",
    "    df = df[df[\"P2\"] < 500]\n",
    "    \n",
    "    # Resampling to 1H and  filling of missing values\n",
    "    df = df[\"P2\"].resample(\"1H\").mean().fillna(method=\"ffill\").to_frame()\n",
    "    \n",
    "    # Add Lag\n",
    "    df[\"P2.L1\"] = df[\"P2\"].shift(1)\n",
    "    # Drop NAn values\n",
    "    df.dropna(inplace=True)\n",
    "    \n",
    "    return df"
   ]
  },
  {
   "cell_type": "code",
   "execution_count": 7,
   "id": "481086e0-deeb-4c33-8d0a-87702ccbddb0",
   "metadata": {
    "deletable": false,
    "editable": false,
    "init_cell": true
   },
   "outputs": [
    {
     "data": {
      "text/html": [
       "\n",
       "        <iframe\n",
       "            width=\"600\"\n",
       "            height=\"300\"\n",
       "            src=\"https://player.vimeo.com/video/665412496?h=d757475f7c\"\n",
       "            frameborder=\"0\"\n",
       "            allowfullscreen\n",
       "            \n",
       "        ></iframe>\n",
       "        "
      ],
      "text/plain": [
       "<IPython.lib.display.VimeoVideo at 0x7fd9e4609a90>"
      ]
     },
     "execution_count": 7,
     "metadata": {},
     "output_type": "execute_result"
    }
   ],
   "source": [
    "VimeoVideo(\"665412496\", h=\"d757475f7c\", width=600)"
   ]
  },
  {
   "cell_type": "markdown",
   "id": "5523ced5-1119-4927-aae0-ee4622bc8155",
   "metadata": {
    "deletable": false,
    "editable": false
   },
   "source": [
    "**Task 3.2.3:** Use your wrangle function to read the data from the `nairobi` collection into the DataFrame `df`."
   ]
  },
  {
   "cell_type": "code",
   "execution_count": 8,
   "id": "a732c00c-7ff4-4a10-ab37-9bf83c243fbe",
   "metadata": {
    "deletable": false
   },
   "outputs": [
    {
     "data": {
      "text/plain": [
       "(2927, 2)"
      ]
     },
     "execution_count": 8,
     "metadata": {},
     "output_type": "execute_result"
    }
   ],
   "source": [
    "df = wrangle(nairobi)\n",
    "df.head()\n",
    "df.shape"
   ]
  },
  {
   "cell_type": "code",
   "execution_count": 9,
   "id": "bc3505a2-6ccc-419a-ac4b-38baca149e22",
   "metadata": {
    "deletable": false
   },
   "outputs": [],
   "source": [
    "# Check your work\n",
    "assert any([isinstance(df, pd.DataFrame), isinstance(df, pd.Series)])\n",
    "assert len(df) <= 32907\n",
    "assert isinstance(df.index, pd.DatetimeIndex)"
   ]
  },
  {
   "cell_type": "code",
   "execution_count": 10,
   "id": "6b8c6402-780a-4a20-817c-c8a849f6437e",
   "metadata": {
    "deletable": false,
    "editable": false,
    "init_cell": true
   },
   "outputs": [
    {
     "data": {
      "text/html": [
       "\n",
       "        <iframe\n",
       "            width=\"600\"\n",
       "            height=\"300\"\n",
       "            src=\"https://player.vimeo.com/video/665412520?h=e03eefff07\"\n",
       "            frameborder=\"0\"\n",
       "            allowfullscreen\n",
       "            \n",
       "        ></iframe>\n",
       "        "
      ],
      "text/plain": [
       "<IPython.lib.display.VimeoVideo at 0x7fd9e46099d0>"
      ]
     },
     "execution_count": 10,
     "metadata": {},
     "output_type": "execute_result"
    }
   ],
   "source": [
    "VimeoVideo(\"665412520\", h=\"e03eefff07\", width=600)"
   ]
  },
  {
   "cell_type": "markdown",
   "id": "267a1b92-355b-4967-ad57-5cb6d3a367ac",
   "metadata": {
    "deletable": false,
    "editable": false
   },
   "source": [
    "**Task 3.2.4:** Add to your `wrangle` function so that the `DatetimeIndex` for `df` is localized to the correct timezone, `\"Africa/Nairobi\"`. Don't forget to re-run all the cells above after you change the function. \n",
    "\n",
    "- [<span id='technique'>Localize a timestamp to another timezone using <span id='tool'>pandas.](../%40textbook/17-ts-models.ipynb#Localizing-the-Timezone)"
   ]
  },
  {
   "cell_type": "code",
   "execution_count": 11,
   "id": "593d9682-c370-49ea-bc34-0c79892d33bf",
   "metadata": {},
   "outputs": [
    {
     "ename": "TypeError",
     "evalue": "Already tz-aware, use tz_convert to convert.",
     "output_type": "error",
     "traceback": [
      "\u001b[0;31m---------------------------------------------------------------------------\u001b[0m",
      "\u001b[0;31mTypeError\u001b[0m                                 Traceback (most recent call last)",
      "Input \u001b[0;32mIn [11]\u001b[0m, in \u001b[0;36m<cell line: 1>\u001b[0;34m()\u001b[0m\n\u001b[0;32m----> 1\u001b[0m \u001b[43mdf\u001b[49m\u001b[38;5;241;43m.\u001b[39;49m\u001b[43mindex\u001b[49m\u001b[38;5;241;43m.\u001b[39;49m\u001b[43mtz_localize\u001b[49m\u001b[43m(\u001b[49m\u001b[38;5;124;43m\"\u001b[39;49m\u001b[38;5;124;43mUTC\u001b[39;49m\u001b[38;5;124;43m\"\u001b[39;49m\u001b[43m)\u001b[49m\u001b[38;5;241m.\u001b[39mtz_convert(\u001b[38;5;124m\"\u001b[39m\u001b[38;5;124mAfrica/Nairobi\u001b[39m\u001b[38;5;124m\"\u001b[39m)[:\u001b[38;5;241m5\u001b[39m]\n",
      "File \u001b[0;32m/opt/conda/lib/python3.9/site-packages/pandas/core/indexes/datetimes.py:279\u001b[0m, in \u001b[0;36mDatetimeIndex.tz_localize\u001b[0;34m(self, tz, ambiguous, nonexistent)\u001b[0m\n\u001b[1;32m    277\u001b[0m \u001b[38;5;129m@doc\u001b[39m(DatetimeArray\u001b[38;5;241m.\u001b[39mtz_localize)\n\u001b[1;32m    278\u001b[0m \u001b[38;5;28;01mdef\u001b[39;00m \u001b[38;5;21mtz_localize\u001b[39m(\u001b[38;5;28mself\u001b[39m, tz, ambiguous\u001b[38;5;241m=\u001b[39m\u001b[38;5;124m\"\u001b[39m\u001b[38;5;124mraise\u001b[39m\u001b[38;5;124m\"\u001b[39m, nonexistent\u001b[38;5;241m=\u001b[39m\u001b[38;5;124m\"\u001b[39m\u001b[38;5;124mraise\u001b[39m\u001b[38;5;124m\"\u001b[39m) \u001b[38;5;241m-\u001b[39m\u001b[38;5;241m>\u001b[39m DatetimeIndex:\n\u001b[0;32m--> 279\u001b[0m     arr \u001b[38;5;241m=\u001b[39m \u001b[38;5;28;43mself\u001b[39;49m\u001b[38;5;241;43m.\u001b[39;49m\u001b[43m_data\u001b[49m\u001b[38;5;241;43m.\u001b[39;49m\u001b[43mtz_localize\u001b[49m\u001b[43m(\u001b[49m\u001b[43mtz\u001b[49m\u001b[43m,\u001b[49m\u001b[43m \u001b[49m\u001b[43mambiguous\u001b[49m\u001b[43m,\u001b[49m\u001b[43m \u001b[49m\u001b[43mnonexistent\u001b[49m\u001b[43m)\u001b[49m\n\u001b[1;32m    280\u001b[0m     \u001b[38;5;28;01mreturn\u001b[39;00m \u001b[38;5;28mtype\u001b[39m(\u001b[38;5;28mself\u001b[39m)\u001b[38;5;241m.\u001b[39m_simple_new(arr, name\u001b[38;5;241m=\u001b[39m\u001b[38;5;28mself\u001b[39m\u001b[38;5;241m.\u001b[39mname)\n",
      "File \u001b[0;32m/opt/conda/lib/python3.9/site-packages/pandas/core/arrays/_mixins.py:58\u001b[0m, in \u001b[0;36mravel_compat.<locals>.method\u001b[0;34m(self, *args, **kwargs)\u001b[0m\n\u001b[1;32m     55\u001b[0m \u001b[38;5;129m@wraps\u001b[39m(meth)\n\u001b[1;32m     56\u001b[0m \u001b[38;5;28;01mdef\u001b[39;00m \u001b[38;5;21mmethod\u001b[39m(\u001b[38;5;28mself\u001b[39m, \u001b[38;5;241m*\u001b[39margs, \u001b[38;5;241m*\u001b[39m\u001b[38;5;241m*\u001b[39mkwargs):\n\u001b[1;32m     57\u001b[0m     \u001b[38;5;28;01mif\u001b[39;00m \u001b[38;5;28mself\u001b[39m\u001b[38;5;241m.\u001b[39mndim \u001b[38;5;241m==\u001b[39m \u001b[38;5;241m1\u001b[39m:\n\u001b[0;32m---> 58\u001b[0m         \u001b[38;5;28;01mreturn\u001b[39;00m \u001b[43mmeth\u001b[49m\u001b[43m(\u001b[49m\u001b[38;5;28;43mself\u001b[39;49m\u001b[43m,\u001b[49m\u001b[43m \u001b[49m\u001b[38;5;241;43m*\u001b[39;49m\u001b[43margs\u001b[49m\u001b[43m,\u001b[49m\u001b[43m \u001b[49m\u001b[38;5;241;43m*\u001b[39;49m\u001b[38;5;241;43m*\u001b[39;49m\u001b[43mkwargs\u001b[49m\u001b[43m)\u001b[49m\n\u001b[1;32m     60\u001b[0m     flags \u001b[38;5;241m=\u001b[39m \u001b[38;5;28mself\u001b[39m\u001b[38;5;241m.\u001b[39m_ndarray\u001b[38;5;241m.\u001b[39mflags\n\u001b[1;32m     61\u001b[0m     flat \u001b[38;5;241m=\u001b[39m \u001b[38;5;28mself\u001b[39m\u001b[38;5;241m.\u001b[39mravel(\u001b[38;5;124m\"\u001b[39m\u001b[38;5;124mK\u001b[39m\u001b[38;5;124m\"\u001b[39m)\n",
      "File \u001b[0;32m/opt/conda/lib/python3.9/site-packages/pandas/core/arrays/datetimes.py:1019\u001b[0m, in \u001b[0;36mDatetimeArray.tz_localize\u001b[0;34m(self, tz, ambiguous, nonexistent)\u001b[0m\n\u001b[1;32m   1017\u001b[0m         new_dates \u001b[38;5;241m=\u001b[39m tzconversion\u001b[38;5;241m.\u001b[39mtz_convert_from_utc(\u001b[38;5;28mself\u001b[39m\u001b[38;5;241m.\u001b[39masi8, \u001b[38;5;28mself\u001b[39m\u001b[38;5;241m.\u001b[39mtz)\n\u001b[1;32m   1018\u001b[0m     \u001b[38;5;28;01melse\u001b[39;00m:\n\u001b[0;32m-> 1019\u001b[0m         \u001b[38;5;28;01mraise\u001b[39;00m \u001b[38;5;167;01mTypeError\u001b[39;00m(\u001b[38;5;124m\"\u001b[39m\u001b[38;5;124mAlready tz-aware, use tz_convert to convert.\u001b[39m\u001b[38;5;124m\"\u001b[39m)\n\u001b[1;32m   1020\u001b[0m \u001b[38;5;28;01melse\u001b[39;00m:\n\u001b[1;32m   1021\u001b[0m     tz \u001b[38;5;241m=\u001b[39m timezones\u001b[38;5;241m.\u001b[39mmaybe_get_tz(tz)\n",
      "\u001b[0;31mTypeError\u001b[0m: Already tz-aware, use tz_convert to convert."
     ]
    }
   ],
   "source": [
    "df.index.tz_localize(\"UTC\").tz_convert(\"Africa/Nairobi\")[:5]"
   ]
  },
  {
   "cell_type": "code",
   "execution_count": null,
   "id": "3b967cc2-62bb-48ed-bc9c-0af25e35f44d",
   "metadata": {
    "deletable": false
   },
   "outputs": [],
   "source": [
    "# Check your work\n",
    "assert df.index.tzinfo == pytz.timezone(\"Africa/Nairobi\")"
   ]
  },
  {
   "cell_type": "markdown",
   "id": "095bfbee-fdfc-4f2c-bf97-b98616e3f149",
   "metadata": {
    "deletable": false,
    "editable": false
   },
   "source": [
    "## Explore"
   ]
  },
  {
   "cell_type": "code",
   "execution_count": null,
   "id": "5953cc81-95fb-4634-a8db-a4d8cedf3738",
   "metadata": {
    "deletable": false,
    "editable": false,
    "init_cell": true
   },
   "outputs": [],
   "source": [
    "VimeoVideo(\"665412546\", h=\"97792cb982\", width=600)"
   ]
  },
  {
   "cell_type": "markdown",
   "id": "26bb6e4f-e263-497a-9f58-49363dd0895d",
   "metadata": {
    "deletable": false,
    "editable": false
   },
   "source": [
    "**Task 3.2.5:** Create a boxplot of the `\"P2\"` readings in `df`. \n",
    "\n",
    "- [<span id='technique'>Create a boxplot using <span id='tool'>pandas.](../%40textbook/06-visualization-matplotlib.ipynb#Boxplots)"
   ]
  },
  {
   "cell_type": "code",
   "execution_count": 12,
   "id": "8ab893d7-4f59-439d-8fd0-e6121771bbdf",
   "metadata": {
    "deletable": false
   },
   "outputs": [
    {
     "data": {
      "image/png": "[encoded data removed]",
      "text/plain": [
       "<Figure size 1080x432 with 1 Axes>"
      ]
     },
     "metadata": {
      "needs_background": "light"
     },
     "output_type": "display_data"
    }
   ],
   "source": [
    "fig, ax = plt.subplots(figsize=(15, 6))\n",
    "df[\"P2\"].plot(kind=\"box\", vert=False, title=\"Distribution of PM2.5 Readings\", ax=ax);"
   ]
  },
  {
   "cell_type": "code",
   "execution_count": null,
   "id": "0d88f007-c822-4136-b60c-d520e60f69c4",
   "metadata": {
    "deletable": false,
    "editable": false,
    "init_cell": true
   },
   "outputs": [],
   "source": [
    "VimeoVideo(\"665412573\", h=\"b46049021b\", width=600)"
   ]
  },
  {
   "cell_type": "markdown",
   "id": "1a0a1b4f-b9fc-45db-bbdb-1e9839f54e97",
   "metadata": {
    "deletable": false,
    "editable": false
   },
   "source": [
    "**Task 3.2.6:** Add to your `wrangle` function so that all `\"P2\"` readings above 500 are dropped from the dataset. Don't forget to re-run all the cells above after you change the function. \n",
    "\n",
    "- [<span id='technique'>Subset a DataFrame with a mask using <span id='tool'>pandas.](../%40textbook/04-pandas-advanced.ipynb#Subsetting-with-Masks)"
   ]
  },
  {
   "cell_type": "code",
   "execution_count": 13,
   "id": "33e11795-5182-4592-aa9b-1c5bed7038bb",
   "metadata": {},
   "outputs": [
    {
     "data": {
      "text/html": [
       "<div>\n",
       "<style scoped>\n",
       "    .dataframe tbody tr th:only-of-type {\n",
       "        vertical-align: middle;\n",
       "    }\n",
       "\n",
       "    .dataframe tbody tr th {\n",
       "        vertical-align: top;\n",
       "    }\n",
       "\n",
       "    .dataframe thead th {\n",
       "        text-align: right;\n",
       "    }\n",
       "</style>\n",
       "<table border=\"1\" class=\"dataframe\">\n",
       "  <thead>\n",
       "    <tr style=\"text-align: right;\">\n",
       "      <th></th>\n",
       "      <th>P2</th>\n",
       "      <th>P2.L1</th>\n",
       "    </tr>\n",
       "    <tr>\n",
       "      <th>timestamp</th>\n",
       "      <th></th>\n",
       "      <th></th>\n",
       "    </tr>\n",
       "  </thead>\n",
       "  <tbody>\n",
       "    <tr>\n",
       "      <th>2018-09-01 04:00:00+03:00</th>\n",
       "      <td>15.800000</td>\n",
       "      <td>17.541667</td>\n",
       "    </tr>\n",
       "    <tr>\n",
       "      <th>2018-09-01 05:00:00+03:00</th>\n",
       "      <td>11.420000</td>\n",
       "      <td>15.800000</td>\n",
       "    </tr>\n",
       "    <tr>\n",
       "      <th>2018-09-01 06:00:00+03:00</th>\n",
       "      <td>11.614167</td>\n",
       "      <td>11.420000</td>\n",
       "    </tr>\n",
       "    <tr>\n",
       "      <th>2018-09-01 07:00:00+03:00</th>\n",
       "      <td>17.665000</td>\n",
       "      <td>11.614167</td>\n",
       "    </tr>\n",
       "    <tr>\n",
       "      <th>2018-09-01 08:00:00+03:00</th>\n",
       "      <td>21.016667</td>\n",
       "      <td>17.665000</td>\n",
       "    </tr>\n",
       "    <tr>\n",
       "      <th>...</th>\n",
       "      <td>...</td>\n",
       "      <td>...</td>\n",
       "    </tr>\n",
       "    <tr>\n",
       "      <th>2018-12-31 22:00:00+03:00</th>\n",
       "      <td>7.060833</td>\n",
       "      <td>9.150833</td>\n",
       "    </tr>\n",
       "    <tr>\n",
       "      <th>2018-12-31 23:00:00+03:00</th>\n",
       "      <td>7.854167</td>\n",
       "      <td>7.060833</td>\n",
       "    </tr>\n",
       "    <tr>\n",
       "      <th>2019-01-01 00:00:00+03:00</th>\n",
       "      <td>9.755833</td>\n",
       "      <td>7.854167</td>\n",
       "    </tr>\n",
       "    <tr>\n",
       "      <th>2019-01-01 01:00:00+03:00</th>\n",
       "      <td>12.665000</td>\n",
       "      <td>9.755833</td>\n",
       "    </tr>\n",
       "    <tr>\n",
       "      <th>2019-01-01 02:00:00+03:00</th>\n",
       "      <td>18.803333</td>\n",
       "      <td>12.665000</td>\n",
       "    </tr>\n",
       "  </tbody>\n",
       "</table>\n",
       "<p>2927 rows × 2 columns</p>\n",
       "</div>"
      ],
      "text/plain": [
       "                                  P2      P2.L1\n",
       "timestamp                                      \n",
       "2018-09-01 04:00:00+03:00  15.800000  17.541667\n",
       "2018-09-01 05:00:00+03:00  11.420000  15.800000\n",
       "2018-09-01 06:00:00+03:00  11.614167  11.420000\n",
       "2018-09-01 07:00:00+03:00  17.665000  11.614167\n",
       "2018-09-01 08:00:00+03:00  21.016667  17.665000\n",
       "...                              ...        ...\n",
       "2018-12-31 22:00:00+03:00   7.060833   9.150833\n",
       "2018-12-31 23:00:00+03:00   7.854167   7.060833\n",
       "2019-01-01 00:00:00+03:00   9.755833   7.854167\n",
       "2019-01-01 01:00:00+03:00  12.665000   9.755833\n",
       "2019-01-01 02:00:00+03:00  18.803333  12.665000\n",
       "\n",
       "[2927 rows x 2 columns]"
      ]
     },
     "execution_count": 13,
     "metadata": {},
     "output_type": "execute_result"
    }
   ],
   "source": [
    "df[df[\"P2\"] < 500]"
   ]
  },
  {
   "cell_type": "code",
   "execution_count": null,
   "id": "13bcbe53-c819-4ef7-a7c6-dc420e1dc5a5",
   "metadata": {
    "deletable": false
   },
   "outputs": [],
   "source": [
    "# Check your work\n",
    "assert len(df) <= 32906"
   ]
  },
  {
   "cell_type": "code",
   "execution_count": null,
   "id": "14c1090b-e9a4-46ae-b442-8414cb94477b",
   "metadata": {
    "deletable": false,
    "editable": false,
    "init_cell": true
   },
   "outputs": [],
   "source": [
    "VimeoVideo(\"665412594\", h=\"e56c2f6839\", width=600)"
   ]
  },
  {
   "cell_type": "markdown",
   "id": "76d10d89-f7a6-4260-a8b9-b998a62caae9",
   "metadata": {
    "deletable": false,
    "editable": false
   },
   "source": [
    "**Task 3.2.7:** Create a time series plot of the `\"P2\"` readings in `df`.\n",
    "\n",
    "- [<span id='technique'>Create a line plot using <span id='tool'>pandas.](../%40textbook/07-visualization-pandas.ipynb#Line-Plots)"
   ]
  },
  {
   "cell_type": "code",
   "execution_count": 14,
   "id": "678fca79-4c09-4993-87e5-8d6233959112",
   "metadata": {
    "deletable": false
   },
   "outputs": [
    {
     "data": {
      "image/png": "[encoded data removed]",
      "text/plain": [
       "<Figure size 1080x432 with 1 Axes>"
      ]
     },
     "metadata": {
      "needs_background": "light"
     },
     "output_type": "display_data"
    }
   ],
   "source": [
    "fig, ax = plt.subplots(figsize=(15, 6))\n",
    "df[\"P2\"].plot(xlabel=\"Time\", ylabel=\"PM2.5\", title=\"PM2.5 Time Series\", ax=ax);"
   ]
  },
  {
   "cell_type": "code",
   "execution_count": null,
   "id": "cf3ff88f-b7dc-45c3-b796-9cf64de759df",
   "metadata": {
    "deletable": false,
    "editable": false,
    "init_cell": true
   },
   "outputs": [],
   "source": [
    "VimeoVideo(\"665412601\", h=\"a16c5a73fc\", width=600)"
   ]
  },
  {
   "cell_type": "markdown",
   "id": "e0709102-8eec-4dcc-bff0-1b4a9bd104df",
   "metadata": {
    "deletable": false,
    "editable": false
   },
   "source": [
    "**Task 3.2.8:** Add to your `wrangle` function to resample `df` to provide the mean `\"P2\"` reading for each hour. Use a forward fill to impute any missing values. Don't forget to re-run all the cells above after you change the function. \n",
    "\n",
    "- [<span id='technique'>Resample time series data in <span id='tool'>pandas.](../%40textbook/17-ts-models.ipynb#Resampling-Data)\n",
    "- [<span id='technique'>Impute missing time series values using <span id='tool'>pandas.](../%40textbook/13-ml-data-pre-processing-and-production.ipynb#Imputation)"
   ]
  },
  {
   "cell_type": "code",
   "execution_count": null,
   "id": "7d6db31d-4cf2-4b43-b1c9-0e137bfbe79b",
   "metadata": {},
   "outputs": [],
   "source": [
    "df[\"P2\"].resample(\"1H\").mean().fillna(method=\"ffill\").to_frame().head()"
   ]
  },
  {
   "cell_type": "code",
   "execution_count": null,
   "id": "35f84f80-b442-4db9-905e-485624ffdb5c",
   "metadata": {
    "deletable": false
   },
   "outputs": [],
   "source": [
    "# Check your work\n",
    "assert len(df) <= 2928"
   ]
  },
  {
   "cell_type": "code",
   "execution_count": 15,
   "id": "640157aa-e000-4994-b190-6451d5eac69b",
   "metadata": {
    "deletable": false,
    "editable": false,
    "init_cell": true
   },
   "outputs": [
    {
     "data": {
      "text/html": [
       "\n",
       "        <iframe\n",
       "            width=\"600\"\n",
       "            height=\"300\"\n",
       "            src=\"https://player.vimeo.com/video/665412649?h=d2e99d2e75\"\n",
       "            frameborder=\"0\"\n",
       "            allowfullscreen\n",
       "            \n",
       "        ></iframe>\n",
       "        "
      ],
      "text/plain": [
       "<IPython.lib.display.VimeoVideo at 0x7fd9de6a8a00>"
      ]
     },
     "execution_count": 15,
     "metadata": {},
     "output_type": "execute_result"
    }
   ],
   "source": [
    "VimeoVideo(\"665412649\", h=\"d2e99d2e75\", width=600)"
   ]
  },
  {
   "cell_type": "markdown",
   "id": "3c0d2f53-ac21-4503-96bf-0f0177f385e3",
   "metadata": {
    "deletable": false,
    "editable": false
   },
   "source": [
    "**Task 3.2.9:** Plot the rolling average of the `\"P2\"` readings in `df`. Use a window size of `168` (the number of hours in a week).\n",
    "\n",
    "- [What's a <span id='term'>rolling average?](../%40textbook/16-ts-core.ipynb#Rolling-Averages)\n",
    "- [<span id='technique'>Calculate a rolling average in <span id='tool'>pandas.](../%40textbook/17-ts-models.ipynb#Making-a-Line-Plot-with-Rolling-Averages)\n",
    "- [<span id='technique'>Create a line plot using <span id='tool'>pandas.](../%40textbook/07-visualization-pandas.ipynb#Line-Plots)"
   ]
  },
  {
   "cell_type": "code",
   "execution_count": null,
   "id": "193f55bf-90a1-4fe9-9c99-5df21bebe8a5",
   "metadata": {
    "deletable": false
   },
   "outputs": [],
   "source": [
    "fig, ax = plt.subplots(figsize=(15, 6))\n",
    "df[\"P2\"].rolling(168).mean().plot(ax=ax, ylabel=\"PM2.5\", title=\"Weekly Rolling Average\");"
   ]
  },
  {
   "cell_type": "code",
   "execution_count": null,
   "id": "44bb65cb-a337-4204-bd4e-233d213e15fb",
   "metadata": {
    "deletable": false,
    "editable": false,
    "init_cell": true
   },
   "outputs": [],
   "source": [
    "VimeoVideo(\"665412693\", h=\"c3bca16aff\", width=600)"
   ]
  },
  {
   "cell_type": "markdown",
   "id": "c669a21c-f0b3-4040-a039-2ea7fcbe4d14",
   "metadata": {
    "deletable": false,
    "editable": false
   },
   "source": [
    "**Task 3.2.10:** Add to your `wrangle` function to create a column called `\"P2.L1\"` that contains the mean`\"P2\"` reading from the previous hour. Since this new feature will create `NaN` values in your DataFrame, be sure to also drop null rows from `df`.\n",
    "\n",
    "- [<span id='technique'>Shift the index of a Series in <span id='tool'>pandas.](../%40textbook/03-pandas-getting-started.ipynb#Adding-Columns)\n",
    "- [<span id='technique'>Drop rows with missing values from a DataFrame using <span id='tool'>pandas.](../%40textbook/03-pandas-getting-started.ipynb#Dropping-Columns)"
   ]
  },
  {
   "cell_type": "code",
   "execution_count": null,
   "id": "9ea4e998-6508-4680-bd4e-f109b49d8b31",
   "metadata": {},
   "outputs": [],
   "source": [
    "df[\"P2.L1\"] = df[\"P2\"].shift(1)\n",
    "df.dropna"
   ]
  },
  {
   "cell_type": "code",
   "execution_count": null,
   "id": "5fcebe05-7021-47bb-8a65-194c21da9d4b",
   "metadata": {
    "deletable": false
   },
   "outputs": [],
   "source": [
    "# Check your work\n",
    "assert len(df) <= 11686\n",
    "assert df.shape[1] == 2"
   ]
  },
  {
   "cell_type": "code",
   "execution_count": null,
   "id": "cdef37a0-e738-412d-b116-f5ba83fbdf93",
   "metadata": {
    "deletable": false,
    "editable": false,
    "init_cell": true
   },
   "outputs": [],
   "source": [
    "VimeoVideo(\"665412732\", h=\"059e4088c5\", width=600)"
   ]
  },
  {
   "cell_type": "markdown",
   "id": "95c21959-7c4f-4171-8606-82bc0adf4c90",
   "metadata": {
    "deletable": false,
    "editable": false
   },
   "source": [
    "**Task 3.2.11:** Create a correlation matrix for `df`.\n",
    "\n",
    "- [<span id='technique'>Create a correlation matrix in <span id='tool'>pandas.](../%40textbook/07-visualization-pandas.ipynb#Correlation-Matrices)"
   ]
  },
  {
   "cell_type": "code",
   "execution_count": null,
   "id": "9eb7dbd8-c2ee-4586-a0b7-7860be96ebd2",
   "metadata": {
    "deletable": false
   },
   "outputs": [],
   "source": [
    "df.corr()"
   ]
  },
  {
   "cell_type": "code",
   "execution_count": null,
   "id": "0e1483b5-8b47-49d1-b2ac-9984912998ee",
   "metadata": {
    "deletable": false,
    "editable": false,
    "init_cell": true
   },
   "outputs": [],
   "source": [
    "VimeoVideo(\"665412741\", h=\"7439cb107c\", width=600)"
   ]
  },
  {
   "cell_type": "markdown",
   "id": "e41d5aef-c84b-4240-b2a7-730a2644c73d",
   "metadata": {
    "deletable": false,
    "editable": false
   },
   "source": [
    "**Task 3.2.12:** Create a scatter plot that shows PM 2.5 mean reading for each our as a function of the mean reading from the previous hour. In other words, `\"P2.L1\"` should be on the x-axis, and `\"P2\"` should be on the y-axis. Don't forget to label your axes!\n",
    "\n",
    "- [<span id='technique'>Create a scatter plot using <span id='tool'>Matplotlib.](../%40textbook/06-visualization-matplotlib.ipynb#Scatter-Plots)"
   ]
  },
  {
   "cell_type": "code",
   "execution_count": null,
   "id": "c15eb937-393e-4962-89de-25e7b451183b",
   "metadata": {
    "deletable": false
   },
   "outputs": [],
   "source": [
    "fig, ax = plt.subplots(figsize=(6, 6))\n",
    "ax.scatter(x=df[\"P2.L1\"], y=df[\"P2\"])\n",
    "ax.plot([0, 120], [0, 120], linestyle=\"--\", color=\"orange\")\n",
    "plt.xlabel=\"P2.L1\"\n",
    "plt.ylabel=\"P2\"\n",
    "plt.title=\"PM2.5 Autocorrelation\";"
   ]
  },
  {
   "cell_type": "markdown",
   "id": "cac31838-06f0-432a-a73c-4a95a362190a",
   "metadata": {
    "deletable": false,
    "editable": false
   },
   "source": [
    "## Split"
   ]
  },
  {
   "cell_type": "code",
   "execution_count": null,
   "id": "17a1226a-fdfb-4246-bd80-28d220b5b22a",
   "metadata": {
    "deletable": false,
    "editable": false,
    "init_cell": true
   },
   "outputs": [],
   "source": [
    "VimeoVideo(\"665412762\", h=\"a5eba496f7\", width=600)"
   ]
  },
  {
   "cell_type": "markdown",
   "id": "4cb00c38-9ece-423f-82ed-dfec64767209",
   "metadata": {
    "deletable": false,
    "editable": false
   },
   "source": [
    "**Task 3.2.13:** Split the DataFrame `df` into the feature matrix `X` and the target vector `y`. Your target is `\"P2\"`.\n",
    "\n",
    "- [<span id='technique'>Subset a DataFrame by selecting one or more columns in <span id='tool'>pandas.](../%40textbook/04-pandas-advanced.ipynb#Subset-a-DataFrame-by-Selecting-One-or-More-Columns) \n",
    "- [<span id='technique'>Select a Series from a DataFrame in <span id='tool'>pandas.](../%40textbook/03-pandas-getting-started.ipynb#Adding-Columns) "
   ]
  },
  {
   "cell_type": "code",
   "execution_count": null,
   "id": "d9bd01da-d4a8-4974-9312-9dc748f3475a",
   "metadata": {
    "deletable": false,
    "tags": []
   },
   "outputs": [],
   "source": [
    "target = \"P2\"\n",
    "y = df[target]\n",
    "X = df.drop(columns=target)"
   ]
  },
  {
   "cell_type": "code",
   "execution_count": null,
   "id": "1cd42b1f-979f-4bdf-92e2-61ab52de9c2b",
   "metadata": {
    "deletable": false,
    "editable": false,
    "init_cell": true
   },
   "outputs": [],
   "source": [
    "VimeoVideo(\"665412785\", h=\"03118eda71\", width=600)"
   ]
  },
  {
   "cell_type": "markdown",
   "id": "b76cc7e3-e81e-45c7-8336-e2cb0acd31ac",
   "metadata": {
    "deletable": false,
    "editable": false
   },
   "source": [
    "**Task 3.2.14:** Split `X` and `y` into training and test sets. The first 80% of the data should be in your training set. The remaining 20% should be in the test set.\n",
    "\n",
    "- [<span id='technique'>Divide data into training and test sets in <span id='tool'>pandas.](../%40textbook/14-ml-classification.ipynb#Randomized-Train-Test-split)"
   ]
  },
  {
   "cell_type": "code",
   "execution_count": null,
   "id": "659e74cf-3cae-4970-b152-803bbb1d1dc6",
   "metadata": {
    "deletable": false
   },
   "outputs": [],
   "source": [
    "cutoff = int(len(X) * 0.8)\n",
    "\n",
    "X_train, y_train = X.iloc[:cutoff], y.iloc[:cutoff]\n",
    "X_test, y_test = X.iloc[cutoff:], y.iloc[cutoff:]"
   ]
  },
  {
   "cell_type": "markdown",
   "id": "406779e7-aa56-4f31-824a-522a9ad73a2c",
   "metadata": {
    "deletable": false,
    "editable": false
   },
   "source": [
    "# Build Model"
   ]
  },
  {
   "cell_type": "markdown",
   "id": "ccc4c41e-2552-4cb4-b4e9-e6aa6b3f62d0",
   "metadata": {
    "deletable": false,
    "editable": false
   },
   "source": [
    "## Baseline"
   ]
  },
  {
   "cell_type": "markdown",
   "id": "21a83331-793d-4570-a464-3c9c19ca3bc8",
   "metadata": {
    "deletable": false,
    "editable": false
   },
   "source": [
    "**Task 3.2.15:** Calculate the baseline mean absolute error for your model.\n",
    "\n",
    "- [<span id='technique'>Calculate summary statistics for a DataFrame or Series in <span id='tool'>pandas.](../%40textbook/05-pandas-summary-statistics.ipynb#Summary-Statistics)"
   ]
  },
  {
   "cell_type": "code",
   "execution_count": null,
   "id": "c9c0367a-b65d-4287-8697-5d02d0424e76",
   "metadata": {
    "deletable": false
   },
   "outputs": [],
   "source": [
    "y_mean = y_train.mean()\n",
    "y_pred_baseline = [y_mean] *len(y_train)\n",
    "mae_baseline = mean_absolute_error(y_train, y_pred_baseline)\n",
    "\n",
    "print(\"Mean P2 Reading:\", round(y_train.mean(), 2))\n",
    "print(\"Baseline MAE:\", round(mae_baseline, 2))"
   ]
  },
  {
   "cell_type": "markdown",
   "id": "dcc20840-2a9b-4e53-9aa4-cb6aa2a33894",
   "metadata": {
    "deletable": false,
    "editable": false
   },
   "source": [
    "## Iterate"
   ]
  },
  {
   "cell_type": "markdown",
   "id": "2b5e72ee-a2df-4748-bd07-23e429b3ab4e",
   "metadata": {
    "deletable": false,
    "editable": false
   },
   "source": [
    "**Task 3.2.16:** Instantiate a [`LinearRegression`](https://scikit-learn.org/stable/modules/generated/sklearn.linear_model.LinearRegression.html) model named `model`, and fit it to your training data.\n",
    "\n",
    "- [<span id='technique'>Instantiate a predictor in <span id='tool'>scikit-learn.](../%40textbook/15-ml-regression.ipynb#Fitting-a-Model-to-Training-Data)\n",
    "- [<span id='technique'>Fit a model to training data in <span id='tool'>scikit-learn.](../%40textbook/15-ml-regression.ipynb#Fitting-a-Model-to-Training-Data)"
   ]
  },
  {
   "cell_type": "code",
   "execution_count": null,
   "id": "884d9686-5afe-4f60-84fe-532d41cc8813",
   "metadata": {
    "deletable": false
   },
   "outputs": [],
   "source": [
    "model = LinearRegression()\n",
    "model.fit(X_train, y_train)"
   ]
  },
  {
   "cell_type": "markdown",
   "id": "e8d5c39e-0f93-4cfa-bae0-489e43daca47",
   "metadata": {
    "deletable": false,
    "editable": false,
    "tags": []
   },
   "source": [
    "## Evaluate"
   ]
  },
  {
   "cell_type": "code",
   "execution_count": null,
   "id": "a652d45c-6fa1-4d16-9b58-0233e8476ecf",
   "metadata": {
    "deletable": false,
    "editable": false,
    "init_cell": true
   },
   "outputs": [],
   "source": [
    "VimeoVideo(\"665412844\", h=\"129865775d\", width=600)"
   ]
  },
  {
   "cell_type": "markdown",
   "id": "7002f1d5-2e9a-4b47-a632-8237b335cf08",
   "metadata": {
    "deletable": false,
    "editable": false
   },
   "source": [
    "**Task 3.2.17:** Calculate the training and test mean absolute error for your model.\n",
    "\n",
    "- [<span id='technique'>Generate predictions using a trained model in <span id='tool'>scikit-learn.](../%40textbook/15-ml-regression.ipynb#Generating-Predictions-Using-a-Trained-Model)\n",
    "- [<span id='technique'>Calculate the mean absolute error for a list of predictions in <span id='tool'>scikit-learn.](../%40textbook/15-ml-regression.ipynb#Calculating-the-Mean-Absolute-Error-for-a-List-of-Predictions)"
   ]
  },
  {
   "cell_type": "code",
   "execution_count": null,
   "id": "ba3eede0-1820-4319-8a7a-3fe925f11fd3",
   "metadata": {
    "deletable": false
   },
   "outputs": [],
   "source": [
    "training_mae = mean_absolute_error(y_train, model.predict(X_train))\n",
    "test_mae = mean_absolute_error(y_test, model.predict(X_test))\n",
    "print(\"Training MAE:\", round(training_mae, 2))\n",
    "print(\"Test MAE:\", round(test_mae, 2))"
   ]
  },
  {
   "cell_type": "markdown",
   "id": "211b3ffa-390b-47aa-a537-12e1bea9f1c0",
   "metadata": {
    "deletable": false,
    "editable": false
   },
   "source": [
    "# Communicate Results"
   ]
  },
  {
   "cell_type": "markdown",
   "id": "4e49c7c8-bea4-45b0-91e5-1b660f4fe2c6",
   "metadata": {
    "deletable": false,
    "editable": false
   },
   "source": [
    "**Task 3.2.18:** Extract the intercept and coefficient from your `model`. \n",
    "\n",
    "- [<span id='technique'>Access an object in a pipeline in <span id='tool'>scikit-learn](../%40textbook/13-ml-data-pre-processing-and-production.ipynb#Accessing-an-Object-in-a-Pipeline)"
   ]
  },
  {
   "cell_type": "code",
   "execution_count": null,
   "id": "dba630d6-73dd-4b3f-9a47-c3eba2d2ada6",
   "metadata": {
    "deletable": false
   },
   "outputs": [],
   "source": [
    "intercept = round(model.intercept_, 2)\n",
    "coefficient = round(model.coef_[0], 2)\n",
    "\n",
    "print(f\"P2 = {intercept} + ({coefficient} * P2.L1)\")"
   ]
  },
  {
   "cell_type": "code",
   "execution_count": null,
   "id": "92fb0179-8a9e-4fa3-84b8-f390c7e67da9",
   "metadata": {
    "deletable": false,
    "editable": false,
    "init_cell": true
   },
   "outputs": [],
   "source": [
    "VimeoVideo(\"665412870\", h=\"318d69683e\", width=600)"
   ]
  },
  {
   "cell_type": "markdown",
   "id": "32526748-3e28-41da-bd2b-340333248a86",
   "metadata": {
    "deletable": false,
    "editable": false
   },
   "source": [
    "**Task 3.2.19:** Create a DataFrame `df_pred_test` that has two columns: `\"y_test\"` and `\"y_pred\"`. The first should contain the true values for your test set, and the second should contain your model's predictions. Be sure the index of `df_pred_test` matches the index of `y_test`.\n",
    "\n",
    "- [<span id='technique'>Create a DataFrame from a dictionary using <span id='tool'>pandas.](../%40textbook/03-pandas-getting-started.ipynb#Working-with-DataFrames)"
   ]
  },
  {
   "cell_type": "code",
   "execution_count": null,
   "id": "354e3190-3635-4627-944e-8508a8576df6",
   "metadata": {
    "deletable": false
   },
   "outputs": [],
   "source": [
    "df_pred_test = pd.DataFrame(\n",
    "    {\n",
    "        \"y_test\": y_test,\n",
    "        \"y_pred\": model.predict(X_test)\n",
    "    }\n",
    ")\n",
    "df_pred_test.head()"
   ]
  },
  {
   "cell_type": "code",
   "execution_count": null,
   "id": "c7d29ece-6025-40ed-970f-1bc4a1930c1a",
   "metadata": {
    "deletable": false,
    "editable": false,
    "init_cell": true
   },
   "outputs": [],
   "source": [
    "VimeoVideo(\"665412891\", h=\"39d7356a26\", width=600)"
   ]
  },
  {
   "cell_type": "markdown",
   "id": "b1d6aa72-90e8-4d82-b4e0-112283548e2c",
   "metadata": {
    "deletable": false,
    "editable": false
   },
   "source": [
    "**Task 3.2.20:** Create a time series line plot for the values in `test_predictions` using plotly express. Be sure that the y-axis is properly labeled as `\"P2\"`.\n",
    "\n",
    "- [<span id='technique'>Create a line plot using <span id='tool'>plotly express.](../%40textbook/07-visualization-pandas.ipynb#Line-Plots)"
   ]
  },
  {
   "cell_type": "code",
   "execution_count": null,
   "id": "773a9b04-70ee-4625-ac2c-b93dbf98c194",
   "metadata": {
    "deletable": false
   },
   "outputs": [],
   "source": [
    "fig = px.line(df_pred_test, y=\"y_pred\", title=\"Time series plot\" )\n",
    "fig.show()"
   ]
  },
  {
   "cell_type": "markdown",
   "id": "3261f19d",
   "metadata": {
    "deletable": false,
    "editable": false
   },
   "source": [
    "---\n",
    "Copyright © 2022 WorldQuant University. This\n",
    "content is licensed solely for personal use. Redistribution or\n",
    "publication of this material is strictly prohibited.\n"
   ]
  }
 ],
 "metadata": {
  "kernelspec": {
   "display_name": "Python 3 (ipykernel)",
   "language": "python",
   "name": "python3"
  },
  "language_info": {
   "codemirror_mode": {
    "name": "ipython",
    "version": 3
   },
   "file_extension": ".py",
   "mimetype": "text/x-python",
   "name": "python",
   "nbconvert_exporter": "python",
   "pygments_lexer": "ipython3",
   "version": "3.9.6"
  },
  "toc-autonumbering": false
 },
 "nbformat": 4,
 "nbformat_minor": 5
}
